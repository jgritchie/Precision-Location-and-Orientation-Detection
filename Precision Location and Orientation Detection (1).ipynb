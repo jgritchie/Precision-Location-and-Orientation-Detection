{
 "cells": [
  {
   "cell_type": "code",
   "execution_count": 10,
   "metadata": {},
   "outputs": [],
   "source": [
    "from skimage.filters import threshold_local\n",
    "import numpy as np\n",
    "import argparse\n",
    "import cv2\n",
    "import imutils\n",
    "from matplotlib.path import Path"
   ]
  },
  {
   "cell_type": "code",
   "execution_count": 82,
   "metadata": {},
   "outputs": [
    {
     "name": "stdout",
     "output_type": "stream",
     "text": [
      "STEP 1: Edge Detection\n"
     ]
    }
   ],
   "source": [
    "# load the image and compute the ratio of the old height\n",
    "# to the new height, clone it, and resize it\n",
    "image = cv2.imread(r\"INSERT IMAGE PATH HERE\")\n",
    "image[np.where((image == [255,255,255]).all(axis = 2))] = [255,0,0]\n",
    "ratio = image.shape[0] / 500.0\n",
    "orig = image.copy()\n",
    "image = imutils.resize(image, height = 500)\n",
    " \n",
    "# convert the image to grayscale, blur it, and find edges\n",
    "# in the image\n",
    "gray = cv2.cvtColor(image, cv2.COLOR_BGR2GRAY)\n",
    "gray = cv2.GaussianBlur(gray, (5, 5), 0)\n",
    "edged = cv2.Canny(gray, 75, 200)\n",
    " \n",
    "# show the original image and the edge detected image\n",
    "print(\"STEP 1: Edge Detection\")\n",
    "cv2.imshow(\"Image\", image)\n",
    "cv2.imshow(\"Edged\", edged)\n",
    "cv2.waitKey(0)\n",
    "cv2.destroyAllWindows()"
   ]
  },
  {
   "cell_type": "code",
   "execution_count": null,
   "metadata": {},
   "outputs": [],
   "source": []
  },
  {
   "cell_type": "code",
   "execution_count": 79,
   "metadata": {},
   "outputs": [],
   "source": [
    "def find_center(four_points):\n",
    "    x_center = 0\n",
    "    y_center = 0\n",
    "#     add all X points together and Y points together\n",
    "    for x in four_points:\n",
    "        x_center = x_center + x[0][0]\n",
    "        y_center = y_center + x[0][1]\n",
    "#     find average of X and Y point totals\n",
    "    x_center = x_center/4.0\n",
    "    y_center = y_center/4.0\n",
    "    \n",
    "#     create array to adhere to coordinate form\n",
    "    center_point = [x_center, y_center]\n",
    "    return center_point\n",
    "\n",
    "def find_orientation(four_points):\n",
    "#     the center of square/rectangle\n",
    "    point_a = find_center(four_points)\n",
    "#     the midpoint between point four_point[1] and four_point[2]\n",
    "    point_b = [(four_points[1][0][0] + four_points[2][0][0])/2 , (four_points[1][0][1] + four_points[2][0][1])/2]\n",
    "#     the point aligned with center on edge of image\n",
    "    point_c = [point_a[0],666]\n",
    "#     length of side connecting point_a and point_c\n",
    "    ac = 666 - point_a[1]\n",
    "#     length of side connecting point_a and point_b\n",
    "    ab = ((point_a[0] - point_b[0])**2 + (point_a[1] - point_b[1])**2)**.5\n",
    "#     length of side connecting point_b and point_c\n",
    "    bc = ((point_c[0]-point_b[0])**2 + (point_c[1]-point_b[1])**2)**.5\n",
    "#     calculation of orientation at point_a\n",
    "    angle_orientation = np.arccos((ab**2 + ac**2 - bc**2)/(2 * ab * ac))\n",
    "    return 90 - np.rad2deg(angle_orientation)\n",
    "\n",
    "# use to find average pixel length of square side\n",
    "def find_average_side_length(four_points):\n",
    "    sideLengthAverage = 0\n",
    "    \n",
    "    sideA = ((four_points[0][0][0] - four_points[1][0][0])**2 + (four_points[0][0][1] - four_points[1][0][1])**2)**.5\n",
    "    \n",
    "    sideB = ((four_points[1][0][0] - four_points[2][0][0])**2 + (four_points[1][0][1] - four_points[2][0][1])**2)**.5\n",
    "    \n",
    "    sideC = ((four_points[2][0][0] - four_points[3][0][0])**2 + (four_points[2][0][1] - four_points[3][0][1])**2)**.5\n",
    "    \n",
    "    sideD = ((four_points[3][0][0] - four_points[0][0][0])**2 + (four_points[3][0][1] - four_points[0][0][1])**2)**.5\n",
    "    \n",
    "    sideLengthAverage = (sideA + sideB + sideC + sideD)/4\n",
    "    \n",
    "    return sideLengthAverage\n",
    "\n",
    "# find center accuracy in microns\n",
    "def find_center_accuracy(pixelLength, physicalLength, numPoints):\n",
    "    inchesPerPixel = 0\n",
    "    micronsPerPixel = 0\n",
    "    \n",
    "    inchesPerPixel = physicalLength / pixelLength\n",
    "    \n",
    "    micronsPerPixel = inchesPerPixel * 25400/(numPoints ** .5)\n",
    "    \n",
    "    return micronsPerPixel\n",
    "    \n",
    "    \n",
    "# find center using many points in bounded box\n",
    "def find_center_multi(image,cnts):\n",
    "    dividend = 0.0\n",
    "    totalx = 0.0\n",
    "    totaly = 0.0\n",
    "    one = 1.0\n",
    "    for i in range(image.shape[0]):\n",
    "        for j in range(image.shape[1]):\n",
    "            if cv2.pointPolygonTest(cnts[0], (j,i), False) == 1:\n",
    "                totalx = totalx + i\n",
    "                totaly = totaly + j\n",
    "                dividend = dividend + one\n",
    "    center = [totaly / dividend, totalx / dividend, dividend]\n",
    "    return center"
   ]
  },
  {
   "cell_type": "code",
   "execution_count": null,
   "metadata": {},
   "outputs": [],
   "source": []
  },
  {
   "cell_type": "code",
   "execution_count": null,
   "metadata": {},
   "outputs": [],
   "source": []
  },
  {
   "cell_type": "code",
   "execution_count": 83,
   "metadata": {},
   "outputs": [
    {
     "name": "stdout",
     "output_type": "stream",
     "text": [
      "('4 points of square', array([[[254, 170]],\n",
      "\n",
      "       [[218, 180]],\n",
      "\n",
      "       [[228, 217]],\n",
      "\n",
      "       [[265, 206]]]))\n",
      "('Center using 4 corner points', [241.25, 193.25])\n",
      "('Center using points inside sqaure and number of points used', [241.07718814610612, 193.39972432804961, 1451.0])\n",
      "('Angle of Orientation', 14.588918732874532)\n",
      "('Center in microns', 35.11029353600984)\n",
      "STEP 2: Find contours of paper and center of paper\n",
      "999000\n"
     ]
    }
   ],
   "source": [
    "# find the contours in the edged image, keeping only the\n",
    "# largest ones, and initialize the screen contour\n",
    "cnts = cv2.findContours(edged.copy(), cv2.RETR_LIST, cv2.CHAIN_APPROX_NONE)\n",
    "cnts = cnts[0] if imutils.is_cv2() else cnts[1]\n",
    "cnts = sorted(cnts, key = cv2.contourArea, reverse = True)[:5]\n",
    " \n",
    "# loop over the contours\n",
    "for c in cnts:\n",
    "    # approximate the contour\n",
    "    peri = cv2.arcLength(c, True)\n",
    "    approx = cv2.approxPolyDP(c, 0.02 * peri, True)\n",
    " \n",
    "    # if our approximated contour has four points, then we\n",
    "    # can assume that we have found our screen\n",
    "    if len(approx) == 4:\n",
    "        screenCnt = approx\n",
    "        break\n",
    "\n",
    "# center of square, orientation, and more useful information\n",
    "center = find_center_multi(image,cnts)\n",
    "print(\"4 points of square\", screenCnt)\n",
    "print(\"Center using 4 corner points\", find_center(screenCnt))\n",
    "print(\"Center using points inside sqaure and number of points used\", find_center_multi(image, cnts))\n",
    "print(\"Angle of Orientation\", find_orientation(screenCnt))\n",
    "print(\"Center in microns\", find_center_accuracy(find_average_side_length(screenCnt),2,center[2]))\n",
    "print(\"STEP 2: Find contours of paper and center of paper\")\n",
    "print(image.size)\n",
    "cv2.drawContours(image, [screenCnt], -1, (0, 255, 0), 2)\n",
    "cv2.imshow(\"Outline\", image)\n",
    "cv2.waitKey(0)\n",
    "cv2.destroyAllWindows()"
   ]
  },
  {
   "cell_type": "code",
   "execution_count": null,
   "metadata": {},
   "outputs": [],
   "source": []
  },
  {
   "cell_type": "code",
   "execution_count": null,
   "metadata": {},
   "outputs": [],
   "source": []
  },
  {
   "cell_type": "code",
   "execution_count": null,
   "metadata": {},
   "outputs": [],
   "source": []
  },
  {
   "cell_type": "code",
   "execution_count": null,
   "metadata": {},
   "outputs": [],
   "source": []
  }
 ],
 "metadata": {
  "kernelspec": {
   "display_name": "Python 2",
   "language": "python",
   "name": "python2"
  },
  "language_info": {
   "codemirror_mode": {
    "name": "ipython",
    "version": 2
   },
   "file_extension": ".py",
   "mimetype": "text/x-python",
   "name": "python",
   "nbconvert_exporter": "python",
   "pygments_lexer": "ipython2",
   "version": "2.7.15"
  }
 },
 "nbformat": 4,
 "nbformat_minor": 2
}
